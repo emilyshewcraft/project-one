{
 "cells": [
  {
   "cell_type": "markdown",
   "id": "c81d9c5d-3722-4c00-8960-e2432fc054ed",
   "metadata": {},
   "source": [
    "# Data Science Salaries Analysis\n",
    "---"
   ]
  },
  {
   "cell_type": "code",
   "execution_count": 1,
   "id": "4e731e09-a8d3-4747-bc29-e0fd92d976a8",
   "metadata": {},
   "outputs": [],
   "source": [
    "# Import dependencies\n",
    "import pandas as pd\n",
    "import matplotlib.pyplot as plt\n",
    "import numpy as np\n",
    "import scipy.stats as st"
   ]
  },
  {
   "cell_type": "markdown",
   "id": "1d9c6383-06a4-4e5d-bf47-c30f67655551",
   "metadata": {},
   "source": [
    "## Question 1: What are the differences in salaries between job titles under the data science umbrella?"
   ]
  },
  {
   "cell_type": "code",
   "execution_count": null,
   "id": "92af584c-3378-45b0-a206-ae9d27708ba7",
   "metadata": {},
   "outputs": [],
   "source": []
  },
  {
   "cell_type": "markdown",
   "id": "6f82b836-32be-47d0-8dc6-b96e2fb5b600",
   "metadata": {},
   "source": [
    "Analysis: [text here]"
   ]
  },
  {
   "cell_type": "markdown",
   "id": "b31c0ceb-9d7c-406f-a8bc-59b280442d25",
   "metadata": {},
   "source": [
    "## Question 2: What is the wage gap between experience/expertise levels?"
   ]
  },
  {
   "cell_type": "code",
   "execution_count": null,
   "id": "dba06bd4-6f16-4ed6-a641-93ea0d85a3d9",
   "metadata": {},
   "outputs": [],
   "source": []
  },
  {
   "cell_type": "markdown",
   "id": "167c8472-1605-439c-822c-f361bef58a1d",
   "metadata": {},
   "source": [
    "Analysis: [text here]"
   ]
  },
  {
   "cell_type": "markdown",
   "id": "87a09275-4f4d-424e-886b-81130b1d94a8",
   "metadata": {},
   "source": [
    "## Question 3: Does company size have an impact on salary?"
   ]
  },
  {
   "cell_type": "code",
   "execution_count": null,
   "id": "66fb86b3-d17b-4cd3-a63f-fe876e6ac5e3",
   "metadata": {},
   "outputs": [],
   "source": []
  },
  {
   "cell_type": "markdown",
   "id": "13ddb63d-41e5-4509-b1ac-1dc18793af86",
   "metadata": {},
   "source": [
    "Analysis: [text here]"
   ]
  },
  {
   "cell_type": "markdown",
   "id": "937cc819-af77-4bc4-8af2-c8aed9bbe6b0",
   "metadata": {},
   "source": [
    "## Question 4: Can we predict salary outlooks for the future?"
   ]
  },
  {
   "cell_type": "code",
   "execution_count": null,
   "id": "9c14c16d-c0a0-40ef-a48c-9de82f711c76",
   "metadata": {},
   "outputs": [],
   "source": []
  },
  {
   "cell_type": "markdown",
   "id": "b9a9e656-ed47-464e-a52e-0616782e8124",
   "metadata": {},
   "source": [
    "Analysis: [text here]"
   ]
  }
 ],
 "metadata": {
  "kernelspec": {
   "display_name": "Python 3 (ipykernel)",
   "language": "python",
   "name": "python3"
  },
  "language_info": {
   "codemirror_mode": {
    "name": "ipython",
    "version": 3
   },
   "file_extension": ".py",
   "mimetype": "text/x-python",
   "name": "python",
   "nbconvert_exporter": "python",
   "pygments_lexer": "ipython3",
   "version": "3.8.17"
  }
 },
 "nbformat": 4,
 "nbformat_minor": 5
}
