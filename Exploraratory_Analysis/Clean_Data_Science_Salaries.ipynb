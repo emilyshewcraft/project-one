{
 "cells": [
  {
   "cell_type": "code",
   "execution_count": 1,
   "id": "dc9bf714",
   "metadata": {},
   "outputs": [
    {
     "data": {
      "text/html": [
       "<div>\n",
       "<style scoped>\n",
       "    .dataframe tbody tr th:only-of-type {\n",
       "        vertical-align: middle;\n",
       "    }\n",
       "\n",
       "    .dataframe tbody tr th {\n",
       "        vertical-align: top;\n",
       "    }\n",
       "\n",
       "    .dataframe thead th {\n",
       "        text-align: right;\n",
       "    }\n",
       "</style>\n",
       "<table border=\"1\" class=\"dataframe\">\n",
       "  <thead>\n",
       "    <tr style=\"text-align: right;\">\n",
       "      <th></th>\n",
       "      <th>Unnamed: 0</th>\n",
       "      <th>Job Title</th>\n",
       "      <th>Employment Type</th>\n",
       "      <th>Experience Level</th>\n",
       "      <th>Expertise Level</th>\n",
       "      <th>Salary</th>\n",
       "      <th>Salary Currency</th>\n",
       "      <th>Company Location</th>\n",
       "      <th>Salary in USD</th>\n",
       "      <th>Employee Residence</th>\n",
       "      <th>Company Size</th>\n",
       "      <th>Year</th>\n",
       "    </tr>\n",
       "  </thead>\n",
       "  <tbody>\n",
       "    <tr>\n",
       "      <th>0</th>\n",
       "      <td>0</td>\n",
       "      <td>Data Engineer</td>\n",
       "      <td>Full-Time</td>\n",
       "      <td>Senior</td>\n",
       "      <td>Expert</td>\n",
       "      <td>210000</td>\n",
       "      <td>United States Dollar</td>\n",
       "      <td>United States</td>\n",
       "      <td>210000</td>\n",
       "      <td>United States</td>\n",
       "      <td>Medium</td>\n",
       "      <td>2023</td>\n",
       "    </tr>\n",
       "    <tr>\n",
       "      <th>1</th>\n",
       "      <td>1</td>\n",
       "      <td>Data Engineer</td>\n",
       "      <td>Full-Time</td>\n",
       "      <td>Senior</td>\n",
       "      <td>Expert</td>\n",
       "      <td>165000</td>\n",
       "      <td>United States Dollar</td>\n",
       "      <td>United States</td>\n",
       "      <td>165000</td>\n",
       "      <td>United States</td>\n",
       "      <td>Medium</td>\n",
       "      <td>2023</td>\n",
       "    </tr>\n",
       "    <tr>\n",
       "      <th>2</th>\n",
       "      <td>2</td>\n",
       "      <td>Data Engineer</td>\n",
       "      <td>Full-Time</td>\n",
       "      <td>Senior</td>\n",
       "      <td>Expert</td>\n",
       "      <td>185900</td>\n",
       "      <td>United States Dollar</td>\n",
       "      <td>United States</td>\n",
       "      <td>185900</td>\n",
       "      <td>United States</td>\n",
       "      <td>Medium</td>\n",
       "      <td>2023</td>\n",
       "    </tr>\n",
       "    <tr>\n",
       "      <th>3</th>\n",
       "      <td>3</td>\n",
       "      <td>Data Engineer</td>\n",
       "      <td>Full-Time</td>\n",
       "      <td>Senior</td>\n",
       "      <td>Expert</td>\n",
       "      <td>129300</td>\n",
       "      <td>United States Dollar</td>\n",
       "      <td>United States</td>\n",
       "      <td>129300</td>\n",
       "      <td>United States</td>\n",
       "      <td>Medium</td>\n",
       "      <td>2023</td>\n",
       "    </tr>\n",
       "    <tr>\n",
       "      <th>4</th>\n",
       "      <td>4</td>\n",
       "      <td>Data Scientist</td>\n",
       "      <td>Full-Time</td>\n",
       "      <td>Senior</td>\n",
       "      <td>Expert</td>\n",
       "      <td>140000</td>\n",
       "      <td>United States Dollar</td>\n",
       "      <td>United States</td>\n",
       "      <td>140000</td>\n",
       "      <td>United States</td>\n",
       "      <td>Medium</td>\n",
       "      <td>2023</td>\n",
       "    </tr>\n",
       "  </tbody>\n",
       "</table>\n",
       "</div>"
      ],
      "text/plain": [
       "   Unnamed: 0       Job Title Employment Type Experience Level  \\\n",
       "0           0   Data Engineer       Full-Time           Senior   \n",
       "1           1   Data Engineer       Full-Time           Senior   \n",
       "2           2   Data Engineer       Full-Time           Senior   \n",
       "3           3   Data Engineer       Full-Time           Senior   \n",
       "4           4  Data Scientist       Full-Time           Senior   \n",
       "\n",
       "  Expertise Level  Salary       Salary Currency Company Location  \\\n",
       "0          Expert  210000  United States Dollar    United States   \n",
       "1          Expert  165000  United States Dollar    United States   \n",
       "2          Expert  185900  United States Dollar    United States   \n",
       "3          Expert  129300  United States Dollar    United States   \n",
       "4          Expert  140000  United States Dollar    United States   \n",
       "\n",
       "   Salary in USD Employee Residence Company Size  Year  \n",
       "0         210000      United States       Medium  2023  \n",
       "1         165000      United States       Medium  2023  \n",
       "2         185900      United States       Medium  2023  \n",
       "3         129300      United States       Medium  2023  \n",
       "4         140000      United States       Medium  2023  "
      ]
     },
     "execution_count": 1,
     "metadata": {},
     "output_type": "execute_result"
    }
   ],
   "source": [
    "from matplotlib import pyplot as plt\n",
    "from scipy import stats\n",
    "import pandas as pd\n",
    "import numpy as np\n",
    "import scipy.stats as st\n",
    "\n",
    "data_science_clean = pd.read_csv(\"Resources/Data_Science_Salaries_Clean.csv\")\n",
    "data_science_clean.head()"
   ]
  },
  {
   "cell_type": "code",
   "execution_count": 2,
   "id": "738d553d",
   "metadata": {},
   "outputs": [
    {
     "name": "stdout",
     "output_type": "stream",
     "text": [
      "<class 'pandas.core.frame.DataFrame'>\n",
      "RangeIndex: 2228 entries, 0 to 2227\n",
      "Data columns (total 12 columns):\n",
      " #   Column              Non-Null Count  Dtype \n",
      "---  ------              --------------  ----- \n",
      " 0   Unnamed: 0          2228 non-null   int64 \n",
      " 1   Job Title           2228 non-null   object\n",
      " 2   Employment Type     2228 non-null   object\n",
      " 3   Experience Level    2228 non-null   object\n",
      " 4   Expertise Level     2228 non-null   object\n",
      " 5   Salary              2228 non-null   int64 \n",
      " 6   Salary Currency     2228 non-null   object\n",
      " 7   Company Location    2228 non-null   object\n",
      " 8   Salary in USD       2228 non-null   int64 \n",
      " 9   Employee Residence  2228 non-null   object\n",
      " 10  Company Size        2228 non-null   object\n",
      " 11  Year                2228 non-null   int64 \n",
      "dtypes: int64(4), object(8)\n",
      "memory usage: 209.0+ KB\n"
     ]
    },
    {
     "data": {
      "text/plain": [
       "Job Title\n",
       "Data Engineer                702\n",
       "Data Scientist               635\n",
       "Data Analyst                 459\n",
       "Machine Learning Engineer    300\n",
       "Analytics Engineer           132\n",
       "Name: Job Title, dtype: int64"
      ]
     },
     "execution_count": 2,
     "metadata": {},
     "output_type": "execute_result"
    }
   ],
   "source": [
    "data_science_clean.info()\n",
    "\n",
    "job_title_count= data_science_clean.groupby(\"Job Title\")\n",
    "job_title_count[\"Job Title\"].count().sort_values(ascending=False)"
   ]
  },
  {
   "cell_type": "code",
   "execution_count": 3,
   "id": "90b79327",
   "metadata": {},
   "outputs": [
    {
     "data": {
      "image/png": "[encoded data removed]",
      "text/plain": [
       "<Figure size 640x480 with 1 Axes>"
      ]
     },
     "metadata": {},
     "output_type": "display_data"
    },
    {
     "name": "stdout",
     "output_type": "stream",
     "text": [
      "139408.97845601436\n",
      "133816.0\n",
      "0    100000\n",
      "Name: Salary in USD, dtype: int64\n"
     ]
    },
    {
     "data": {
      "text/plain": [
       "<Figure size 640x480 with 0 Axes>"
      ]
     },
     "metadata": {},
     "output_type": "display_data"
    }
   ],
   "source": [
    "plt.hist(data_science_clean['Salary in USD'])\n",
    "plt.xlabel('Salary Range')\n",
    "plt.ylabel('Counts')\n",
    "plt.title('Overall Salary Range - All Job Titles')\n",
    "plt.show()\n",
    "print(data_science_clean['Salary in USD'].mean())\n",
    "print(data_science_clean['Salary in USD'].median())\n",
    "print(data_science_clean['Salary in USD'].mode())\n",
    "\n",
    "# Save the figure\n",
    "plt.savefig(\"data visuals/overall_salary_range.png\")\n"
   ]
  },
  {
   "cell_type": "code",
   "execution_count": 4,
   "id": "a97f9e5e",
   "metadata": {},
   "outputs": [],
   "source": [
    "#setup dataframes for each job title\n",
    "\n",
    "data_analyst = data_science_clean.loc[data_science_clean[\"Job Title\"] == \"Data Analyst\" , :]\n",
    "\n",
    "\n",
    "data_engineer = data_science_clean.loc[data_science_clean[\"Job Title\"] == \"Data Engineer\" , :]\n",
    "\n",
    "\n",
    "data_scientist = data_science_clean.loc[data_science_clean[\"Job Title\"] == \"Data Scientist\" , :]\n",
    "\n",
    "\n",
    "machine_learning_engineer = data_science_clean.loc[data_science_clean[\"Job Title\"] == \"Machine Learning Engineer\" , :]\n",
    "\n",
    "\n",
    "analytics_engineer = data_science_clean.loc[data_science_clean[\"Job Title\"] == \"Analytics Engineer\" , :]\n"
   ]
  },
  {
   "cell_type": "code",
   "execution_count": 5,
   "id": "3080bf50",
   "metadata": {},
   "outputs": [
    {
     "data": {
      "image/png": "[encoded data removed]",
      "text/plain": [
       "<Figure size 640x480 with 1 Axes>"
      ]
     },
     "metadata": {},
     "output_type": "display_data"
    },
    {
     "name": "stdout",
     "output_type": "stream",
     "text": [
      "Data Analyst central tendency\n",
      "109500.37690631808\n",
      "105320.0\n",
      "0    80000\n",
      "Name: Salary in USD, dtype: int64\n",
      "-------------------------------------------------------------------\n",
      "Data Analyst central tendency\n",
      "NormaltestResult(statistic=8.183697509768582, pvalue=0.01670831540762746)\n",
      "NormaltestResult(statistic=79.73521237393825, pvalue=4.849741899443221e-18)\n",
      "-------------------------------------------------------------------\n",
      "The lower quartile of Data Analyst salary is: 72000.0\n",
      "The upper quartile of Data Analyst salary is: 136552.5\n",
      "The interquartile range of Data Analyst salary is: 64552.5\n",
      "The the median of salary Data Analyst is: 105320.0 \n",
      "Values below -24828.75 could be outliers.\n",
      "Values above 233381.25 could be outliers.\n",
      "-------------------------------------------------------------------\n",
      "The minimum median income of the potential outliers is 236600\n",
      "The maximum median income of the potential outliers is 430967\n",
      "-------------------------------------------------------------------\n"
     ]
    },
    {
     "data": {
      "text/plain": [
       "<Figure size 640x480 with 0 Axes>"
      ]
     },
     "metadata": {},
     "output_type": "display_data"
    }
   ],
   "source": [
    "#Data Analyst summary analysis\n",
    "\n",
    "plt.hist(data_analyst['Salary in USD'])\n",
    "plt.xlabel('Salary Range')\n",
    "plt.ylabel('Counts')\n",
    "plt.title('Data Analyst Salary Range')\n",
    "plt.show()\n",
    "print(f\"Data Analyst central tendency\")\n",
    "print(data_analyst['Salary in USD'].mean())\n",
    "print(data_analyst['Salary in USD'].median())\n",
    "print(data_analyst['Salary in USD'].mode())\n",
    "\n",
    "# Save the figure\n",
    "plt.savefig(\"data visuals/data_analyst_salary_range.png\")\n",
    "\n",
    "print(\"-------------------------------------------------------------------\")\n",
    "\n",
    "print(f\"Data Analyst central tendency\")\n",
    "print(st.normaltest(data_analyst[\"Salary in USD\"].sample(100)))\n",
    "print(st.normaltest(data_analyst[\"Salary in USD\"].sample(300)))\n",
    "\n",
    "print(\"-------------------------------------------------------------------\")\n",
    "\n",
    "quartiles = data_analyst['Salary in USD'].quantile([.25,.5,.75])\n",
    "lowerq = quartiles[0.25]\n",
    "upperq = quartiles[0.75]\n",
    "iqr = upperq-lowerq\n",
    "\n",
    "print(f\"The lower quartile of Data Analyst salary is: {lowerq}\")\n",
    "print(f\"The upper quartile of Data Analyst salary is: {upperq}\")\n",
    "print(f\"The interquartile range of Data Analyst salary is: {iqr}\")\n",
    "print(f\"The the median of salary Data Analyst is: {quartiles[0.5]} \")\n",
    "\n",
    "lower_bound = lowerq - (1.5*iqr)\n",
    "upper_bound = upperq + (1.5*iqr)\n",
    "print(f\"Values below {lower_bound} could be outliers.\")\n",
    "print(f\"Values above {upper_bound} could be outliers.\")\n",
    "\n",
    "data_analyst_quartiles = data_analyst.loc[(data_analyst['Salary in USD'] < lower_bound) |\n",
    "                                          (data_analyst['Salary in USD'] > upper_bound)]\n",
    "data_analyst_quartiles\n",
    "\n",
    "print(\"-------------------------------------------------------------------\")\n",
    "\n",
    "print(f\"The minimum median income of the potential outliers is {data_analyst_quartiles['Salary in USD'].min()}\")\n",
    "print(f\"The maximum median income of the potential outliers is {data_analyst_quartiles['Salary in USD'].max()}\")\n",
    "\n",
    "print(\"-------------------------------------------------------------------\")"
   ]
  },
  {
   "cell_type": "code",
   "execution_count": 23,
   "id": "eff87d33",
   "metadata": {},
   "outputs": [
    {
     "data": {
      "image/png": "[encoded data removed]",
      "text/plain": [
       "<Figure size 640x480 with 1 Axes>"
      ]
     },
     "metadata": {},
     "output_type": "display_data"
    },
    {
     "name": "stdout",
     "output_type": "stream",
     "text": [
      "Data Engineer central tendency\n",
      "142033.87464387465\n",
      "135223.0\n",
      "0    80000\n",
      "Name: Salary in USD, dtype: int64\n",
      "-------------------------------------------------------------------\n",
      "Data Engineer central tendency\n",
      "NormaltestResult(statistic=8.89338046666307, pvalue=0.01171728433947404)\n",
      "NormaltestResult(statistic=19.066249249074357, pvalue=7.241300667235033e-05)\n",
      "-------------------------------------------------------------------\n",
      "The lower quartile of Data Engineer salary is: 72000.0\n",
      "The upper quartile of Data Engineer salary is: 136552.5\n",
      "The interquartile range of Data Engineer salary is: 64552.5\n",
      "The the median of salary Data Engineer is: 105320.0 \n",
      "Values below -24828.75 could be outliers.\n",
      "Values above 233381.25 could be outliers.\n",
      "-------------------------------------------------------------------\n",
      "The minimum median income of the potential outliers is 235000\n",
      "The maximum median income of the potential outliers is 333500\n",
      "-------------------------------------------------------------------\n"
     ]
    },
    {
     "data": {
      "text/plain": [
       "<Figure size 640x480 with 0 Axes>"
      ]
     },
     "metadata": {},
     "output_type": "display_data"
    }
   ],
   "source": [
    "#Data Engineer Summary analysis\n",
    "\n",
    "plt.hist(data_engineer['Salary in USD'])\n",
    "plt.xlabel('Salary Range')\n",
    "plt.ylabel('Counts')\n",
    "plt.title('Data Engineer Salary Range')\n",
    "plt.show()\n",
    "print(f\"Data Engineer central tendency\")\n",
    "print(data_engineer['Salary in USD'].mean())\n",
    "print(data_engineer['Salary in USD'].median())\n",
    "print(data_engineer['Salary in USD'].mode())\n",
    "\n",
    "# Save the figure\n",
    "plt.savefig(\"data visuals/data_engineer_salary_range.png\")\n",
    "\n",
    "print(\"-------------------------------------------------------------------\")\n",
    "\n",
    "print(f\"Data Engineer central tendency\")\n",
    "print(st.normaltest(data_engineer[\"Salary in USD\"].sample(200)))\n",
    "print(st.normaltest(data_engineer[\"Salary in USD\"].sample(500)))\n",
    "\n",
    "print(\"-------------------------------------------------------------------\")\n",
    "\n",
    "data_engineer_quartiles = data_engineer['Salary in USD'].quantile([.25,.5,.75])\n",
    "lowerq = quartiles[0.25]\n",
    "upperq = quartiles[0.75]\n",
    "iqr = upperq-lowerq\n",
    "\n",
    "print(f\"The lower quartile of Data Engineer salary is: {lowerq}\")\n",
    "print(f\"The upper quartile of Data Engineer salary is: {upperq}\")\n",
    "print(f\"The interquartile range of Data Engineer salary is: {iqr}\")\n",
    "print(f\"The the median of salary Data Engineer is: {quartiles[0.5]} \")\n",
    "\n",
    "lower_bound = lowerq - (1.5*iqr)\n",
    "upper_bound = upperq + (1.5*iqr)\n",
    "print(f\"Values below {lower_bound} could be outliers.\")\n",
    "print(f\"Values above {upper_bound} could be outliers.\")\n",
    "\n",
    "data_engineer_quartiles = data_engineer.loc[(data_engineer['Salary in USD'] < lower_bound) |\n",
    "                                          (data_engineer['Salary in USD'] > upper_bound)]\n",
    "data_engineer_quartiles\n",
    "\n",
    "print(\"-------------------------------------------------------------------\")\n",
    "\n",
    "print(f\"The minimum median income of the potential outliers is {data_engineer_quartiles['Salary in USD'].min()}\")\n",
    "print(f\"The maximum median income of the potential outliers is {data_engineer_quartiles['Salary in USD'].max()}\")\n",
    "\n",
    "print(\"-------------------------------------------------------------------\")"
   ]
  },
  {
   "cell_type": "code",
   "execution_count": 24,
   "id": "7269ea14",
   "metadata": {},
   "outputs": [
    {
     "data": {
      "image/png": "[encoded data removed]",
      "text/plain": [
       "<Figure size 640x480 with 1 Axes>"
      ]
     },
     "metadata": {},
     "output_type": "display_data"
    },
    {
     "name": "stdout",
     "output_type": "stream",
     "text": [
      "Data Scientist central tendency\n",
      "141886.16377952756\n",
      "140000.0\n",
      "0    100000\n",
      "Name: Salary in USD, dtype: int64\n",
      "-------------------------------------------------------------------\n",
      "Data Scientist central tendency\n",
      "NormaltestResult(statistic=6.299858247568433, pvalue=0.04285516417126584)\n",
      "NormaltestResult(statistic=29.04797190816401, pvalue=4.923943317966682e-07)\n",
      "-------------------------------------------------------------------\n",
      "The lower quartile of Data Scientist salary is: 93400.0\n",
      "The upper quartile of Data Scientist salary is: 184217.0\n",
      "The interquartile range of Data Scientist salary is: 90817.0\n",
      "The the median of salary Data Scientist is: 140000.0 \n",
      "Values below -42825.5 could be outliers.\n",
      "Values above 320442.5 could be outliers.\n",
      "-------------------------------------------------------------------\n",
      "The minimum median income of the potential outliers is 323300\n",
      "The maximum median income of the potential outliers is 412000\n",
      "-------------------------------------------------------------------\n"
     ]
    },
    {
     "data": {
      "text/plain": [
       "<Figure size 640x480 with 0 Axes>"
      ]
     },
     "metadata": {},
     "output_type": "display_data"
    }
   ],
   "source": [
    "#Data Scientist summary analysis\n",
    "\n",
    "plt.hist(data_scientist['Salary in USD'])\n",
    "plt.xlabel('Salary Range')\n",
    "plt.ylabel('Counts')\n",
    "plt.title('Data Scientist Salary Range')\n",
    "plt.show()\n",
    "print(f\"Data Scientist central tendency\")\n",
    "print(data_scientist['Salary in USD'].mean())\n",
    "print(data_scientist['Salary in USD'].median())\n",
    "print(data_scientist['Salary in USD'].mode())\n",
    "\n",
    "# Save the figure\n",
    "plt.savefig(\"data visuals/data_scientist_salary_range.png\")\n",
    "\n",
    "print(\"-------------------------------------------------------------------\")\n",
    "\n",
    "print(f\"Data Scientist central tendency\")\n",
    "print(st.normaltest(data_scientist[\"Salary in USD\"].sample(200)))\n",
    "print(st.normaltest(data_scientist[\"Salary in USD\"].sample(500)))\n",
    "\n",
    "print(\"-------------------------------------------------------------------\")\n",
    "\n",
    "quartiles = data_scientist['Salary in USD'].quantile([.25,.5,.75])\n",
    "lowerq = quartiles[0.25]\n",
    "upperq = quartiles[0.75]\n",
    "iqr = upperq-lowerq\n",
    "\n",
    "print(f\"The lower quartile of Data Scientist salary is: {lowerq}\")\n",
    "print(f\"The upper quartile of Data Scientist salary is: {upperq}\")\n",
    "print(f\"The interquartile range of Data Scientist salary is: {iqr}\")\n",
    "print(f\"The the median of salary Data Scientist is: {quartiles[0.5]} \")\n",
    "\n",
    "lower_bound = lowerq - (1.5*iqr)\n",
    "upper_bound = upperq + (1.5*iqr)\n",
    "print(f\"Values below {lower_bound} could be outliers.\")\n",
    "print(f\"Values above {upper_bound} could be outliers.\")\n",
    "\n",
    "data_scientist_quartiles = data_scientist.loc[(data_scientist['Salary in USD'] < lower_bound) |\n",
    "                                          (data_scientist['Salary in USD'] > upper_bound)]\n",
    "data_scientist_quartiles\n",
    "\n",
    "print(\"-------------------------------------------------------------------\")\n",
    "\n",
    "print(f\"The minimum median income of the potential outliers is {data_scientist_quartiles['Salary in USD'].min()}\")\n",
    "print(f\"The maximum median income of the potential outliers is {data_scientist_quartiles['Salary in USD'].max()}\")\n",
    "\n",
    "print(\"-------------------------------------------------------------------\")"
   ]
  },
  {
   "cell_type": "code",
   "execution_count": 25,
   "id": "9f5701ee",
   "metadata": {},
   "outputs": [
    {
     "data": {
      "image/png": "[encoded data removed]",
      "text/plain": [
       "<Figure size 640x480 with 1 Axes>"
      ]
     },
     "metadata": {},
     "output_type": "display_data"
    },
    {
     "name": "stdout",
     "output_type": "stream",
     "text": [
      "Machine Learning Engineer central tendency\n",
      "167249.51333333334\n",
      "161310.0\n",
      "0    150000\n",
      "Name: Salary in USD, dtype: int64\n",
      "-------------------------------------------------------------------\n",
      "Machine Learning Engineer central tendency\n",
      "NormaltestResult(statistic=2.4156111328936714, pvalue=0.29885237206107046)\n",
      "NormaltestResult(statistic=3.632140331181335, pvalue=0.1626637380759426)\n",
      "-------------------------------------------------------------------\n",
      "The lower quartile of Machine Learning Engineer salary is: 120000.0\n",
      "The upper quartile of Machine Learning Engineer salary is: 210550.0\n",
      "The interquartile range of Machine Learning Engineer salary is: 90550.0\n",
      "The the median of salary Machine Learning Engineer is: 161310.0 \n",
      "Values below -15825.0 could be outliers.\n",
      "Values above 346375.0 could be outliers.\n",
      "-------------------------------------------------------------------\n",
      "The minimum median income of the potential outliers is 392000\n",
      "The maximum median income of the potential outliers is 392000\n",
      "-------------------------------------------------------------------\n"
     ]
    },
    {
     "data": {
      "text/plain": [
       "<Figure size 640x480 with 0 Axes>"
      ]
     },
     "metadata": {},
     "output_type": "display_data"
    }
   ],
   "source": [
    "#Machine Learning Engineer summary analysis\n",
    "\n",
    "plt.hist(machine_learning_engineer['Salary in USD'])\n",
    "plt.xlabel('Salary Range')\n",
    "plt.ylabel('Counts')\n",
    "plt.title('Machine Learning Engineer Salary Range')\n",
    "plt.show()\n",
    "print(f\"Machine Learning Engineer central tendency\")\n",
    "print(machine_learning_engineer['Salary in USD'].mean())\n",
    "print(machine_learning_engineer['Salary in USD'].median())\n",
    "print(machine_learning_engineer['Salary in USD'].mode())\n",
    "\n",
    "# Save the figure\n",
    "plt.savefig(\"data visuals/machine_learning_engineer_salary_range.png\")\n",
    "\n",
    "print(\"-------------------------------------------------------------------\")\n",
    "\n",
    "print(f\"Machine Learning Engineer central tendency\")\n",
    "print(st.normaltest(machine_learning_engineer[\"Salary in USD\"].sample(75)))\n",
    "print(st.normaltest(machine_learning_engineer[\"Salary in USD\"].sample(200)))\n",
    "\n",
    "print(\"-------------------------------------------------------------------\")\n",
    "\n",
    "quartiles = machine_learning_engineer['Salary in USD'].quantile([.25,.5,.75])\n",
    "lowerq = quartiles[0.25]\n",
    "upperq = quartiles[0.75]\n",
    "iqr = upperq-lowerq\n",
    "\n",
    "print(f\"The lower quartile of Machine Learning Engineer salary is: {lowerq}\")\n",
    "print(f\"The upper quartile of Machine Learning Engineer salary is: {upperq}\")\n",
    "print(f\"The interquartile range of Machine Learning Engineer salary is: {iqr}\")\n",
    "print(f\"The the median of salary Machine Learning Engineer is: {quartiles[0.5]} \")\n",
    "\n",
    "lower_bound = lowerq - (1.5*iqr)\n",
    "upper_bound = upperq + (1.5*iqr)\n",
    "print(f\"Values below {lower_bound} could be outliers.\")\n",
    "print(f\"Values above {upper_bound} could be outliers.\")\n",
    "\n",
    "machine_learning_engineer_quartiles = machine_learning_engineer.loc[(machine_learning_engineer['Salary in USD'] < lower_bound) |\n",
    "                                          (machine_learning_engineer['Salary in USD'] > upper_bound)]\n",
    "machine_learning_engineer_quartiles\n",
    "\n",
    "print(\"-------------------------------------------------------------------\")\n",
    "\n",
    "print(f\"The minimum median income of the potential outliers is {machine_learning_engineer_quartiles['Salary in USD'].min()}\")\n",
    "print(f\"The maximum median income of the potential outliers is {machine_learning_engineer_quartiles['Salary in USD'].max()}\")\n",
    "\n",
    "print(\"-------------------------------------------------------------------\")"
   ]
  },
  {
   "cell_type": "code",
   "execution_count": 26,
   "id": "a5b972f5",
   "metadata": {},
   "outputs": [
    {
     "data": {
      "image/png": "[encoded data removed]",
      "text/plain": [
       "<Figure size 640x480 with 1 Axes>"
      ]
     },
     "metadata": {},
     "output_type": "display_data"
    },
    {
     "name": "stdout",
     "output_type": "stream",
     "text": [
      "Analytics Engineer central tendency\n",
      "154258.96212121213\n",
      "149400.0\n",
      "0    130000\n",
      "1    150000\n",
      "2    165000\n",
      "3    170000\n",
      "4    200000\n",
      "Name: Salary in USD, dtype: int64\n",
      "The minimum salary of an Analytics Engineer 48000\n",
      "The maximum salary of an Analytics Engineer 430640\n",
      "-------------------------------------------------------------------\n",
      "Analytics Engineer central tendency\n",
      "NormaltestResult(statistic=0.7379848456221527, pvalue=0.6914306495311189)\n",
      "NormaltestResult(statistic=22.541073118711083, pvalue=1.2742896748713693e-05)\n",
      "-------------------------------------------------------------------\n",
      "The lower quartile of Analytics Engineer salary is: 113075.0\n",
      "The upper quartile of Analytics Engineer salary is: 192292.5\n",
      "The interquartile range of Analytics Engineer salary is: 79217.5\n",
      "The the median of salary Analytics Engineer is: 149400.0 \n",
      "Values below -5751.25 could be outliers.\n",
      "Values above 311118.75 could be outliers.\n",
      "-------------------------------------------------------------------\n",
      "The minimum median income of the potential outliers is 430640\n",
      "The maximum median income of the potential outliers is 430640\n",
      "-------------------------------------------------------------------\n"
     ]
    },
    {
     "data": {
      "text/plain": [
       "<Figure size 640x480 with 0 Axes>"
      ]
     },
     "metadata": {},
     "output_type": "display_data"
    }
   ],
   "source": [
    "#Analytics Engineer summary analysis\n",
    "\n",
    "plt.hist(analytics_engineer['Salary in USD'])\n",
    "plt.xlabel('Salary Range')\n",
    "plt.ylabel('Counts')\n",
    "plt.title('Analytics Engineer Salary Range')\n",
    "plt.show()\n",
    "print(f\"Analytics Engineer central tendency\")\n",
    "print(analytics_engineer['Salary in USD'].mean())\n",
    "print(analytics_engineer['Salary in USD'].median())\n",
    "print(analytics_engineer['Salary in USD'].mode())\n",
    "print(f\"The minimum salary of an Analytics Engineer {analytics_engineer['Salary in USD'].min()}\")\n",
    "print(f\"The maximum salary of an Analytics Engineer {analytics_engineer['Salary in USD'].max()}\")\n",
    "\n",
    "# Save the figure\n",
    "plt.savefig(\"data visuals/analytics_engineer_salary_range.png\")\n",
    "\n",
    "print(\"-------------------------------------------------------------------\")\n",
    "\n",
    "print(f\"Analytics Engineer central tendency\")\n",
    "print(st.normaltest(analytics_engineer[\"Salary in USD\"].sample(40)))\n",
    "print(st.normaltest(analytics_engineer[\"Salary in USD\"].sample(90)))\n",
    "\n",
    "print(\"-------------------------------------------------------------------\")\n",
    "\n",
    "quartiles = analytics_engineer['Salary in USD'].quantile([.25,.5,.75])\n",
    "lowerq = quartiles[0.25]\n",
    "upperq = quartiles[0.75]\n",
    "iqr = upperq-lowerq\n",
    "\n",
    "print(f\"The lower quartile of Analytics Engineer salary is: {lowerq}\")\n",
    "print(f\"The upper quartile of Analytics Engineer salary is: {upperq}\")\n",
    "print(f\"The interquartile range of Analytics Engineer salary is: {iqr}\")\n",
    "print(f\"The the median of salary Analytics Engineer is: {quartiles[0.5]} \")\n",
    "\n",
    "lower_bound = lowerq - (1.5*iqr)\n",
    "upper_bound = upperq + (1.5*iqr)\n",
    "print(f\"Values below {lower_bound} could be outliers.\")\n",
    "print(f\"Values above {upper_bound} could be outliers.\")\n",
    "\n",
    "analytics_engineer_quartiles = analytics_engineer.loc[(analytics_engineer['Salary in USD'] < lower_bound) |\n",
    "                                          (analytics_engineer['Salary in USD'] > upper_bound)]\n",
    "analytics_engineer_quartiles\n",
    "\n",
    "print(\"-------------------------------------------------------------------\")\n",
    "\n",
    "print(f\"The minimum median income of the potential outliers is {analytics_engineer_quartiles['Salary in USD'].min()}\")\n",
    "print(f\"The maximum median income of the potential outliers is {analytics_engineer_quartiles['Salary in USD'].max()}\")\n",
    "\n",
    "print(\"-------------------------------------------------------------------\")"
   ]
  },
  {
   "cell_type": "code",
   "execution_count": 27,
   "id": "81d69d2c",
   "metadata": {},
   "outputs": [
    {
     "data": {
      "text/html": [
       "<div>\n",
       "<style scoped>\n",
       "    .dataframe tbody tr th:only-of-type {\n",
       "        vertical-align: middle;\n",
       "    }\n",
       "\n",
       "    .dataframe tbody tr th {\n",
       "        vertical-align: top;\n",
       "    }\n",
       "\n",
       "    .dataframe thead th {\n",
       "        text-align: right;\n",
       "    }\n",
       "</style>\n",
       "<table border=\"1\" class=\"dataframe\">\n",
       "  <thead>\n",
       "    <tr style=\"text-align: right;\">\n",
       "      <th></th>\n",
       "      <th>Unnamed: 0</th>\n",
       "      <th>Job Title</th>\n",
       "      <th>Employment Type</th>\n",
       "      <th>Experience Level</th>\n",
       "      <th>Expertise Level</th>\n",
       "      <th>Salary</th>\n",
       "      <th>Salary Currency</th>\n",
       "      <th>Company Location</th>\n",
       "      <th>Salary in USD</th>\n",
       "      <th>Employee Residence</th>\n",
       "      <th>Company Size</th>\n",
       "      <th>Year</th>\n",
       "    </tr>\n",
       "  </thead>\n",
       "  <tbody>\n",
       "    <tr>\n",
       "      <th>10</th>\n",
       "      <td>10</td>\n",
       "      <td>Analytics Engineer</td>\n",
       "      <td>Full-Time</td>\n",
       "      <td>Senior</td>\n",
       "      <td>Expert</td>\n",
       "      <td>208500</td>\n",
       "      <td>United States Dollar</td>\n",
       "      <td>United States</td>\n",
       "      <td>208500</td>\n",
       "      <td>United States</td>\n",
       "      <td>Medium</td>\n",
       "      <td>2023</td>\n",
       "    </tr>\n",
       "    <tr>\n",
       "      <th>11</th>\n",
       "      <td>11</td>\n",
       "      <td>Analytics Engineer</td>\n",
       "      <td>Full-Time</td>\n",
       "      <td>Senior</td>\n",
       "      <td>Expert</td>\n",
       "      <td>165000</td>\n",
       "      <td>United States Dollar</td>\n",
       "      <td>United States</td>\n",
       "      <td>165000</td>\n",
       "      <td>United States</td>\n",
       "      <td>Medium</td>\n",
       "      <td>2023</td>\n",
       "    </tr>\n",
       "    <tr>\n",
       "      <th>53</th>\n",
       "      <td>81</td>\n",
       "      <td>Analytics Engineer</td>\n",
       "      <td>Full-Time</td>\n",
       "      <td>Senior</td>\n",
       "      <td>Expert</td>\n",
       "      <td>150000</td>\n",
       "      <td>United States Dollar</td>\n",
       "      <td>United States</td>\n",
       "      <td>150000</td>\n",
       "      <td>United States</td>\n",
       "      <td>Medium</td>\n",
       "      <td>2023</td>\n",
       "    </tr>\n",
       "    <tr>\n",
       "      <th>54</th>\n",
       "      <td>82</td>\n",
       "      <td>Analytics Engineer</td>\n",
       "      <td>Full-Time</td>\n",
       "      <td>Senior</td>\n",
       "      <td>Expert</td>\n",
       "      <td>120000</td>\n",
       "      <td>United States Dollar</td>\n",
       "      <td>United States</td>\n",
       "      <td>120000</td>\n",
       "      <td>United States</td>\n",
       "      <td>Medium</td>\n",
       "      <td>2023</td>\n",
       "    </tr>\n",
       "    <tr>\n",
       "      <th>102</th>\n",
       "      <td>150</td>\n",
       "      <td>Analytics Engineer</td>\n",
       "      <td>Full-Time</td>\n",
       "      <td>Senior</td>\n",
       "      <td>Expert</td>\n",
       "      <td>235400</td>\n",
       "      <td>United States Dollar</td>\n",
       "      <td>United States</td>\n",
       "      <td>235400</td>\n",
       "      <td>United States</td>\n",
       "      <td>Medium</td>\n",
       "      <td>2023</td>\n",
       "    </tr>\n",
       "  </tbody>\n",
       "</table>\n",
       "</div>"
      ],
      "text/plain": [
       "     Unnamed: 0           Job Title Employment Type Experience Level  \\\n",
       "10           10  Analytics Engineer       Full-Time           Senior   \n",
       "11           11  Analytics Engineer       Full-Time           Senior   \n",
       "53           81  Analytics Engineer       Full-Time           Senior   \n",
       "54           82  Analytics Engineer       Full-Time           Senior   \n",
       "102         150  Analytics Engineer       Full-Time           Senior   \n",
       "\n",
       "    Expertise Level  Salary       Salary Currency Company Location  \\\n",
       "10           Expert  208500  United States Dollar    United States   \n",
       "11           Expert  165000  United States Dollar    United States   \n",
       "53           Expert  150000  United States Dollar    United States   \n",
       "54           Expert  120000  United States Dollar    United States   \n",
       "102          Expert  235400  United States Dollar    United States   \n",
       "\n",
       "     Salary in USD Employee Residence Company Size  Year  \n",
       "10          208500      United States       Medium  2023  \n",
       "11          165000      United States       Medium  2023  \n",
       "53          150000      United States       Medium  2023  \n",
       "54          120000      United States       Medium  2023  \n",
       "102         235400      United States       Medium  2023  "
      ]
     },
     "execution_count": 27,
     "metadata": {},
     "output_type": "execute_result"
    }
   ],
   "source": [
    "# filter the data to patron types with greater than the value set for min_checkouts\n",
    "experience_senior = analytics_engineer.loc[analytics_engineer['Experience Level']== \"Senior\",:]\n",
    "experience_senior.head()"
   ]
  },
  {
   "cell_type": "code",
   "execution_count": 28,
   "id": "85567dc8",
   "metadata": {},
   "outputs": [
    {
     "data": {
      "image/png": "[encoded data removed]",
      "text/plain": [
       "<Figure size 640x480 with 1 Axes>"
      ]
     },
     "metadata": {},
     "output_type": "display_data"
    }
   ],
   "source": [
    "# Build scatter plot\n",
    "plt.scatter(experience_senior[\"Company Location\"] , experience_senior[\"Salary in USD\"])\n",
    "\n",
    "\n",
    "# Incorporate the other graph properties\n",
    "plt.xlabel(\"Location\")\n",
    "plt.ylabel(\"Salary\")\n",
    "\n",
    "\n",
    "# Show plot\n",
    "plt.show()"
   ]
  },
  {
   "cell_type": "code",
   "execution_count": 29,
   "id": "b4731f3d",
   "metadata": {},
   "outputs": [
    {
     "name": "stdout",
     "output_type": "stream",
     "text": [
      "The minimum salary of an Machine Learning Engineer $20000\n",
      "The minimum salary of an Data Analyst $15000\n",
      "The minimum salary of an Data Engineer $17025\n",
      "The minimum salary of an Data Scientist $16000\n",
      "The minimum salary of an Analytics Engineer $48000\n"
     ]
    }
   ],
   "source": [
    "#Minimum Salary by Job Title\n",
    "print(f\"The minimum salary of an Machine Learning Engineer ${machine_learning_engineer['Salary in USD'].min()}\")\n",
    "print(f\"The minimum salary of an Data Analyst ${data_analyst['Salary in USD'].min()}\")\n",
    "print(f\"The minimum salary of an Data Engineer ${data_engineer['Salary in USD'].min()}\")\n",
    "print(f\"The minimum salary of an Data Scientist ${data_scientist['Salary in USD'].min()}\")\n",
    "print(f\"The minimum salary of an Analytics Engineer ${analytics_engineer['Salary in USD'].min()}\")"
   ]
  },
  {
   "cell_type": "code",
   "execution_count": 30,
   "id": "b5dc6b0e",
   "metadata": {},
   "outputs": [
    {
     "name": "stdout",
     "output_type": "stream",
     "text": [
      "The median salary of an Machine Learning Engineer $161310.0\n",
      "The median salary of an Data Analyst $105320.0\n",
      "The median salary of an Data Engineer $135223.0\n",
      "The median salary of an Data Scientist $140000.0\n",
      "The median salary of an Analytics Engineer $149400.0\n"
     ]
    }
   ],
   "source": [
    "#Median Salary by Job Title\n",
    "print(f\"The median salary of an Machine Learning Engineer ${machine_learning_engineer['Salary in USD'].median()}\")\n",
    "print(f\"The median salary of an Data Analyst ${data_analyst['Salary in USD'].median()}\")\n",
    "print(f\"The median salary of an Data Engineer ${data_engineer['Salary in USD'].median()}\")\n",
    "print(f\"The median salary of an Data Scientist ${data_scientist['Salary in USD'].median()}\")\n",
    "print(f\"The median salary of an Analytics Engineer ${analytics_engineer['Salary in USD'].median()}\")"
   ]
  },
  {
   "cell_type": "code",
   "execution_count": 31,
   "id": "ee4180a6",
   "metadata": {},
   "outputs": [
    {
     "name": "stdout",
     "output_type": "stream",
     "text": [
      "The maximum salary of an Machine Learning Engineer $392000\n",
      "The maximum salary of an Data Analyst $430967\n",
      "The maximum salary of an Data Engineer $333500\n",
      "The maximum salary of an Data Scientist $412000\n",
      "The maximum salary of an Analytics Engineer $430640\n"
     ]
    }
   ],
   "source": [
    "#Maximum Salary by Job Title\n",
    "print(f\"The maximum salary of an Machine Learning Engineer ${machine_learning_engineer['Salary in USD'].max()}\")\n",
    "print(f\"The maximum salary of an Data Analyst ${data_analyst['Salary in USD'].max()}\")\n",
    "print(f\"The maximum salary of an Data Engineer ${data_engineer['Salary in USD'].max()}\")\n",
    "print(f\"The maximum salary of an Data Scientist ${data_scientist['Salary in USD'].max()}\")\n",
    "print(f\"The maximum salary of an Analytics Engineer ${analytics_engineer['Salary in USD'].max()}\")"
   ]
  },
  {
   "cell_type": "code",
   "execution_count": null,
   "id": "12942edf",
   "metadata": {},
   "outputs": [],
   "source": []
  },
  {
   "cell_type": "code",
   "execution_count": null,
   "id": "b781f030",
   "metadata": {},
   "outputs": [],
   "source": []
  }
 ],
 "metadata": {
  "kernelspec": {
   "display_name": "Python 3 (ipykernel)",
   "language": "python",
   "name": "python3"
  },
  "language_info": {
   "codemirror_mode": {
    "name": "ipython",
    "version": 3
   },
   "file_extension": ".py",
   "mimetype": "text/x-python",
   "name": "python",
   "nbconvert_exporter": "python",
   "pygments_lexer": "ipython3",
   "version": "3.10.12"
  }
 },
 "nbformat": 4,
 "nbformat_minor": 5
}
